{
  "nbformat": 4,
  "nbformat_minor": 0,
  "metadata": {
    "colab": {
      "provenance": [],
      "history_visible": true,
      "authorship_tag": "ABX9TyMp+A2e1Vxq5Mirr5Ntv9k4",
      "include_colab_link": true
    },
    "kernelspec": {
      "name": "python3",
      "display_name": "Python 3"
    },
    "language_info": {
      "name": "python"
    }
  },
  "cells": [
    {
      "cell_type": "markdown",
      "metadata": {
        "id": "view-in-github",
        "colab_type": "text"
      },
      "source": [
        "<a href=\"https://colab.research.google.com/github/alinavandreeva/alinavandreeva/blob/main/csv_Andreeva.ipynb\" target=\"_parent\"><img src=\"https://colab.research.google.com/assets/colab-badge.svg\" alt=\"Open In Colab\"/></a>"
      ]
    },
    {
      "cell_type": "code",
      "source": [
        "import csv"
      ],
      "metadata": {
        "id": "1amo0QYIZOHt"
      },
      "execution_count": null,
      "outputs": []
    },
    {
      "cell_type": "code",
      "source": [
        "# 1. Write a Python program to read each row from a given csv file and print a list of strings.\n",
        "\n",
        "with open(\"countries.csv\", \"r\") as csvfile:\n",
        "  data = csv.reader(csvfile, delimiter=\" \")\n",
        "\n",
        "  for row in data:\n",
        "    print(\", \".join(row))"
      ],
      "metadata": {
        "colab": {
          "base_uri": "https://localhost:8080/"
        },
        "id": "l6rog7CVavr4",
        "outputId": "44d764d0-f7a5-441a-fa5f-69f3f41101d5"
      },
      "execution_count": null,
      "outputs": [
        {
          "output_type": "stream",
          "name": "stdout",
          "text": [
            "country_id, country_name, region_id\n",
            "AR, Argentina, 2\n",
            "AU, Australia, 3\n",
            "BE, Belgium, 1\n",
            "BR, Brazil, 2\n",
            "CA, Canada, 2\n",
            "CH, Switzerland, 1\n",
            "CN, China, 3\n",
            "DE, Germany, 1\n",
            "DK, Denmark, 1\n",
            "EG, Egypt, 4\n",
            "FR, France, 1\n",
            "HK, HongKong, 3\n",
            "IL, Israel, 4\n",
            "IN, India, 3\n",
            "IT, Italy, 1\n",
            "JP, Japan, 3\n",
            "KW, Kuwait, 4\n",
            "MX, Mexico, 2\n",
            "NG, Nigeria, 4\n",
            "N, Netherlands, 1\n",
            "SG, Singapore, 3\n",
            "UK, United, Kingdom, 1\n",
            "US, United, States, of, America, 2\n",
            "ZM, Zambia, 4\n",
            "ZW, Zimbabwe, 4\n"
          ]
        }
      ]
    },
    {
      "cell_type": "code",
      "source": [
        "# 2. Write a Python program to read a given CSV file having tab delimiter.\n",
        "\n",
        "with open(\"countries.csv\", \"r\") as csvfile:\n",
        "  data = csv.reader(csvfile, delimiter=\"\\t\")\n",
        "\n",
        "  for row in data:\n",
        "    print(\", \".join(row))"
      ],
      "metadata": {
        "colab": {
          "base_uri": "https://localhost:8080/"
        },
        "id": "lk0LzRhFb9Xk",
        "outputId": "d673effe-a70a-4b7c-8216-c7c0998d3a63"
      },
      "execution_count": null,
      "outputs": [
        {
          "output_type": "stream",
          "name": "stdout",
          "text": [
            "country_id country_name region_id\n",
            "AR Argentina 2\n",
            "AU Australia 3\n",
            "BE Belgium 1\n",
            "BR Brazil 2\n",
            "CA Canada 2\n",
            "CH Switzerland 1\n",
            "CN China 3\n",
            "DE Germany 1\n",
            "DK Denmark 1\n",
            "EG Egypt 4\n",
            "FR France 1\n",
            "HK HongKong 3\n",
            "IL Israel 4\n",
            "IN India 3\n",
            "IT Italy 1\n",
            "JP Japan 3\n",
            "KW Kuwait 4\n",
            "MX Mexico 2\n",
            "NG Nigeria 4\n",
            "N Netherlands 1\n",
            "SG Singapore 3\n",
            "UK United Kingdom 1\n",
            "US United States of America 2\n",
            "ZM Zambia 4\n",
            "ZW Zimbabwe 4\n"
          ]
        }
      ]
    },
    {
      "cell_type": "code",
      "source": [
        "# 3. Write a Python program to read a given CSV file as a list.\n",
        "\n",
        "with open('employees.csv', newline='') as f:\n",
        "  reader = csv.reader(f)\n",
        "  data_list = list(reader)\n",
        "print(data_list)"
      ],
      "metadata": {
        "colab": {
          "base_uri": "https://localhost:8080/"
        },
        "id": "jJDmW4eucVjT",
        "outputId": "130ce177-f3fe-4c0f-9206-42acc22ae16e"
      },
      "execution_count": null,
      "outputs": [
        {
          "output_type": "stream",
          "name": "stdout",
          "text": [
            "[['employ_id', 'first_name', 'last_name', 'email', 'phone_number', 'hire_date', 'job_id', 'salary', 'commission_pct', 'manager_id', 'department_id'], ['100', 'Steven', 'King', 'SKING', '515.123.4567', '1987-06-17', 'AD_PRES', '24000', '', '', '90'], ['101', 'Neena', 'Kochhar', 'NKOCHHAR', '515.123.4568', '1987-06-18', 'AD_VP', '17000', '', '100', '90'], ['102', 'Lex', 'De Haan', 'LDEHAAN', '515.123.4569', '1987-06-19', 'AD_VP', '17000', '', '100', '90'], ['103', 'Alexander', 'Hunold', 'AHUNOLD', '590.423.4567', '1987-06-20', 'IT_PROG', '9000', '', '102', '60'], ['104', 'Bruce', 'Ernst', 'BERNST', '590.423.4568', '1987-06-21', 'IT_PROG', '6000', '', '103', '60'], ['105', 'David', 'Austin', 'DAUSTIN', '590.423.4569', '1987-06-22', 'IT_PROG', '4800', '', '103', '60'], ['106', 'Valli', 'Pataballa', 'VPATABAL', '590.423.4560', '1987-06-23', 'IT_PROG', '4800', '', '103', '60'], ['107', 'Diana', 'Lorentz', 'DLORENTZ', '590.423.5567', '1987-06-24', 'IT_PROG', '4200', '', '103', '60'], ['108', 'Nancy', 'Greenberg', 'NGREENBE', '515.124.4569', '1987-06-25', 'FI_MGR', '12000', '', '101', '100'], ['109', 'Daniel', 'Faviet', 'DFAVIET', '515.124.4169', '1987-06-26', 'FI_ACCOUNT', '9000', '', '108', '100'], ['110', 'John', 'Chen', 'JCHEN', '515.124.4269', '1987-06-27', 'FI_ACCOUNT', '8200', '', '108', '100'], ['111', 'Ismael', 'Sciarra', 'ISCIARRA', '515.124.4369', '1987-06-28', 'FI_ACCOUNT', '7700', '', '108', '100'], ['112', 'Jose Manuel', 'Urman', 'JMURMAN', '515.124.4469', '1987-06-29', 'FI_ACCOUNT', '7800', '', '108', '100'], ['113', 'Luis', 'Popp', 'LPOPP', '515.124.4567', '1987-06-30', 'FI_ACCOUNT', '6900', '', '108', '100'], ['114', 'Den', 'Raphaely', 'DRAPHEAL', '515.127.4561', '1987-07-01', 'PU_MAN', '11000', '', '100', '30'], ['115', 'Alexander', 'Khoo', 'AKHOO', '515.127.4562', '1987-07-02', 'PU_CLERK', '3100', '', '114', '30'], ['116', 'Shelli', 'Baida', 'SBAIDA', '515.127.4563', '1987-07-03', 'PU_CLERK', '2900', '', '114', '30'], ['117', 'Sigal', 'Tobias', 'STOBIAS', '515.127.4564', '1987-07-04', 'PU_CLERK', '2800', '', '114', '30'], ['118', 'Guy', 'Himuro', 'GHIMURO', '515.127.4565', '1987-07-05', 'PU_CLERK', '2600', '', '114', '30'], ['119', 'Karen', 'Colmenares', 'KCOLMENA', '515.127.4566', '1987-07-06', 'PU_CLERK', '2500', '', '114', '30'], ['120', 'Matthew', 'Weiss', 'MWEISS', '650.123.1234', '1987-07-07', 'ST_MAN', '8000', '', '100', '50'], ['121', 'Adam', 'Fripp', 'AFRIPP', '650.123.2234', '1987-07-08', 'ST_MAN', '8200', '', '100', '50'], ['122', 'Payam', 'Kaufling', 'PKAUFLIN', '650.123.3234', '1987-07-09', 'ST_MAN', '7900', '', '100', '50'], ['123', 'Shanta', 'Vollman', 'SVOLLMAN', '650.123.4234', '1987-07-10', 'ST_MAN', '6500', '', '100', '50'], ['124', 'Kevin', 'Mourgos', 'KMOURGOS', '650.123.5234', '1987-07-11', 'ST_MAN', '5800', '', '100', '50'], ['125', 'Julia', 'Nayer', 'JNAYER', '650.124.1214', '1987-07-12', 'ST_CLERK', '3200', '', '120', '50'], ['126', 'Irene', 'Mikkilineni', 'IMIKKILI', '650.124.1224', '1987-07-13', 'ST_CLERK', '2700', '', '120', '50'], ['127', 'James', 'Landry', 'JLANDRY', '650.124.1334', '1987-07-14', 'ST_CLERK', '2400', '', '120', '50'], ['128', 'Steven', 'Markle', 'SMARKLE', '650.124.1434', '1987-07-15', 'ST_CLERK', '2200', '', '120', '50'], ['129', 'Laura', 'Bissot', 'LBISSOT', '650.124.5234', '1987-07-16', 'ST_CLERK', '3300', '', '121', '50'], ['130', 'Mozhe', 'Atkinson', 'MATKINSO', '650.124.6234', '1987-07-17', 'ST_CLERK', '2800', '', '121', '50'], ['131', 'James', 'Marlow', 'JAMRLOW', '650.124.7234', '1987-07-18', 'ST_CLERK', '2500', '', '121', '50'], ['132', 'TJ', 'Olson', 'TJOLSON', '650.124.8234', '1987-07-19', 'ST_CLERK', '2100', '', '121', '50'], ['133', 'Jason', 'Mallin', 'JMALLIN', '650.127.1934', '1987-07-20', 'ST_CLERK', '3300', '', '122', '50'], ['134', 'Michael', 'Rogers', 'MROGERS', '650.127.1834', '1987-07-21', 'ST_CLERK', '2900', '', '122', '50'], ['135', 'Ki', 'Gee', 'KGEE', '650.127.1734', '1987-07-22', 'ST_CLERK', '2400', '', '122', '50'], ['136', 'Hazel', 'Philtanker', 'HPHILTAN', '650.127.1634', '1987-07-23', 'ST_CLERK', '2200', '', '122', '50'], ['137', 'Renske', 'Ladwig', 'RLADWIG', '650.121.1234', '1987-07-24', 'ST_CLERK', '3600', '', '123', '50'], ['138', 'Stephen', 'Stiles', 'SSTILES', '650.121.2034', '1987-07-25', 'ST_CLERK', '3200', '', '123', '50'], ['139', 'John', 'Seo', 'JSEO', '650.121.2019', '1987-07-26', 'ST_CLERK', '2700', '', '123', '50'], ['140', 'Joshua', 'Patel', 'JPATEL', '650.121.1834', '1987-07-27', 'ST_CLERK', '2500', '', '123', '50'], ['141', 'Trenna', 'Rajs', 'TRAJS', '650.121.8009', '1987-07-28', 'ST_CLERK', '3500', '', '124', '50'], ['142', 'Curtis', 'Davies', 'CDAVIES', '650.121.2994', '1987-07-29', 'ST_CLERK', '3100', '', '124', '50'], ['143', 'Randall', 'Matos', 'RMATOS', '650.121.2874', '1987-07-30', 'ST_CLERK', '2600', '', '124', '50'], ['144', 'Peter', 'Vargas', 'PVARGAS', '650.121.2004', '1987-07-31', 'ST_CLERK', '2500', '', '124', '50'], ['145', 'John', 'Russell', 'JRUSSEL', '011.44.1344.429268', '1987-08-01', 'SA_MAN', '14000', '0.4', '100', '80'], ['146', 'Karen', 'Partners', 'KPARTNER', '011.44.1344.467268', '1987-08-02', 'SA_MAN', '13500', '0.3', '100', '80'], ['147', 'Alberto', 'Errazuriz', 'AERRAZUR', '011.44.1344.429278', '1987-08-03', 'SA_MAN', '12000', '0.3', '100', '80'], ['148', 'Gerald', 'Cambrault', 'GCAMBRAU', '011.44.1344.619268', '1987-08-04', 'SA_MAN', '11000', '0.3', '100', '80'], ['149', 'Eleni', 'Zlotkey', 'EZLOTKEY', '011.44.1344.429018', '1987-08-05', 'SA_MAN', '10500', '0.2', '100', '80'], ['150', 'Peter', 'Tucker', 'PTUCKER', '011.44.1344.129268', '1987-08-06', 'SA_REP', '10000', '0.3', '145', '80']]\n"
          ]
        }
      ]
    },
    {
      "cell_type": "code",
      "source": [
        "# 4. Write a Python program to read a given CSV file as a dictionary.\n",
        "\n",
        "data = csv.DictReader(open(\"employees.csv\"))\n",
        "print(\"CSV file as a dictionary:\\n\")\n",
        "for row in data:\n",
        "   print(row)\n"
      ],
      "metadata": {
        "id": "yqWyiXaviYY-",
        "outputId": "7af75406-f177-41b6-f07d-e23d64cbdd60",
        "colab": {
          "base_uri": "https://localhost:8080/"
        }
      },
      "execution_count": null,
      "outputs": [
        {
          "output_type": "stream",
          "name": "stdout",
          "text": [
            "CSV file as a dictionary:\n",
            "\n",
            "{'employ_id': '100', 'first_name': 'Steven', 'last_name': 'King', 'email': 'SKING', 'phone_number': '515.123.4567', 'hire_date': '1987-06-17', 'job_id': 'AD_PRES', 'salary': '24000', 'commission_pct': '', 'manager_id': '', 'department_id': '90'}\n",
            "{'employ_id': '101', 'first_name': 'Neena', 'last_name': 'Kochhar', 'email': 'NKOCHHAR', 'phone_number': '515.123.4568', 'hire_date': '1987-06-18', 'job_id': 'AD_VP', 'salary': '17000', 'commission_pct': '', 'manager_id': '100', 'department_id': '90'}\n",
            "{'employ_id': '102', 'first_name': 'Lex', 'last_name': 'De Haan', 'email': 'LDEHAAN', 'phone_number': '515.123.4569', 'hire_date': '1987-06-19', 'job_id': 'AD_VP', 'salary': '17000', 'commission_pct': '', 'manager_id': '100', 'department_id': '90'}\n",
            "{'employ_id': '103', 'first_name': 'Alexander', 'last_name': 'Hunold', 'email': 'AHUNOLD', 'phone_number': '590.423.4567', 'hire_date': '1987-06-20', 'job_id': 'IT_PROG', 'salary': '9000', 'commission_pct': '', 'manager_id': '102', 'department_id': '60'}\n",
            "{'employ_id': '104', 'first_name': 'Bruce', 'last_name': 'Ernst', 'email': 'BERNST', 'phone_number': '590.423.4568', 'hire_date': '1987-06-21', 'job_id': 'IT_PROG', 'salary': '6000', 'commission_pct': '', 'manager_id': '103', 'department_id': '60'}\n",
            "{'employ_id': '105', 'first_name': 'David', 'last_name': 'Austin', 'email': 'DAUSTIN', 'phone_number': '590.423.4569', 'hire_date': '1987-06-22', 'job_id': 'IT_PROG', 'salary': '4800', 'commission_pct': '', 'manager_id': '103', 'department_id': '60'}\n",
            "{'employ_id': '106', 'first_name': 'Valli', 'last_name': 'Pataballa', 'email': 'VPATABAL', 'phone_number': '590.423.4560', 'hire_date': '1987-06-23', 'job_id': 'IT_PROG', 'salary': '4800', 'commission_pct': '', 'manager_id': '103', 'department_id': '60'}\n",
            "{'employ_id': '107', 'first_name': 'Diana', 'last_name': 'Lorentz', 'email': 'DLORENTZ', 'phone_number': '590.423.5567', 'hire_date': '1987-06-24', 'job_id': 'IT_PROG', 'salary': '4200', 'commission_pct': '', 'manager_id': '103', 'department_id': '60'}\n",
            "{'employ_id': '108', 'first_name': 'Nancy', 'last_name': 'Greenberg', 'email': 'NGREENBE', 'phone_number': '515.124.4569', 'hire_date': '1987-06-25', 'job_id': 'FI_MGR', 'salary': '12000', 'commission_pct': '', 'manager_id': '101', 'department_id': '100'}\n",
            "{'employ_id': '109', 'first_name': 'Daniel', 'last_name': 'Faviet', 'email': 'DFAVIET', 'phone_number': '515.124.4169', 'hire_date': '1987-06-26', 'job_id': 'FI_ACCOUNT', 'salary': '9000', 'commission_pct': '', 'manager_id': '108', 'department_id': '100'}\n",
            "{'employ_id': '110', 'first_name': 'John', 'last_name': 'Chen', 'email': 'JCHEN', 'phone_number': '515.124.4269', 'hire_date': '1987-06-27', 'job_id': 'FI_ACCOUNT', 'salary': '8200', 'commission_pct': '', 'manager_id': '108', 'department_id': '100'}\n",
            "{'employ_id': '111', 'first_name': 'Ismael', 'last_name': 'Sciarra', 'email': 'ISCIARRA', 'phone_number': '515.124.4369', 'hire_date': '1987-06-28', 'job_id': 'FI_ACCOUNT', 'salary': '7700', 'commission_pct': '', 'manager_id': '108', 'department_id': '100'}\n",
            "{'employ_id': '112', 'first_name': 'Jose Manuel', 'last_name': 'Urman', 'email': 'JMURMAN', 'phone_number': '515.124.4469', 'hire_date': '1987-06-29', 'job_id': 'FI_ACCOUNT', 'salary': '7800', 'commission_pct': '', 'manager_id': '108', 'department_id': '100'}\n",
            "{'employ_id': '113', 'first_name': 'Luis', 'last_name': 'Popp', 'email': 'LPOPP', 'phone_number': '515.124.4567', 'hire_date': '1987-06-30', 'job_id': 'FI_ACCOUNT', 'salary': '6900', 'commission_pct': '', 'manager_id': '108', 'department_id': '100'}\n",
            "{'employ_id': '114', 'first_name': 'Den', 'last_name': 'Raphaely', 'email': 'DRAPHEAL', 'phone_number': '515.127.4561', 'hire_date': '1987-07-01', 'job_id': 'PU_MAN', 'salary': '11000', 'commission_pct': '', 'manager_id': '100', 'department_id': '30'}\n",
            "{'employ_id': '115', 'first_name': 'Alexander', 'last_name': 'Khoo', 'email': 'AKHOO', 'phone_number': '515.127.4562', 'hire_date': '1987-07-02', 'job_id': 'PU_CLERK', 'salary': '3100', 'commission_pct': '', 'manager_id': '114', 'department_id': '30'}\n",
            "{'employ_id': '116', 'first_name': 'Shelli', 'last_name': 'Baida', 'email': 'SBAIDA', 'phone_number': '515.127.4563', 'hire_date': '1987-07-03', 'job_id': 'PU_CLERK', 'salary': '2900', 'commission_pct': '', 'manager_id': '114', 'department_id': '30'}\n",
            "{'employ_id': '117', 'first_name': 'Sigal', 'last_name': 'Tobias', 'email': 'STOBIAS', 'phone_number': '515.127.4564', 'hire_date': '1987-07-04', 'job_id': 'PU_CLERK', 'salary': '2800', 'commission_pct': '', 'manager_id': '114', 'department_id': '30'}\n",
            "{'employ_id': '118', 'first_name': 'Guy', 'last_name': 'Himuro', 'email': 'GHIMURO', 'phone_number': '515.127.4565', 'hire_date': '1987-07-05', 'job_id': 'PU_CLERK', 'salary': '2600', 'commission_pct': '', 'manager_id': '114', 'department_id': '30'}\n",
            "{'employ_id': '119', 'first_name': 'Karen', 'last_name': 'Colmenares', 'email': 'KCOLMENA', 'phone_number': '515.127.4566', 'hire_date': '1987-07-06', 'job_id': 'PU_CLERK', 'salary': '2500', 'commission_pct': '', 'manager_id': '114', 'department_id': '30'}\n",
            "{'employ_id': '120', 'first_name': 'Matthew', 'last_name': 'Weiss', 'email': 'MWEISS', 'phone_number': '650.123.1234', 'hire_date': '1987-07-07', 'job_id': 'ST_MAN', 'salary': '8000', 'commission_pct': '', 'manager_id': '100', 'department_id': '50'}\n",
            "{'employ_id': '121', 'first_name': 'Adam', 'last_name': 'Fripp', 'email': 'AFRIPP', 'phone_number': '650.123.2234', 'hire_date': '1987-07-08', 'job_id': 'ST_MAN', 'salary': '8200', 'commission_pct': '', 'manager_id': '100', 'department_id': '50'}\n",
            "{'employ_id': '122', 'first_name': 'Payam', 'last_name': 'Kaufling', 'email': 'PKAUFLIN', 'phone_number': '650.123.3234', 'hire_date': '1987-07-09', 'job_id': 'ST_MAN', 'salary': '7900', 'commission_pct': '', 'manager_id': '100', 'department_id': '50'}\n",
            "{'employ_id': '123', 'first_name': 'Shanta', 'last_name': 'Vollman', 'email': 'SVOLLMAN', 'phone_number': '650.123.4234', 'hire_date': '1987-07-10', 'job_id': 'ST_MAN', 'salary': '6500', 'commission_pct': '', 'manager_id': '100', 'department_id': '50'}\n",
            "{'employ_id': '124', 'first_name': 'Kevin', 'last_name': 'Mourgos', 'email': 'KMOURGOS', 'phone_number': '650.123.5234', 'hire_date': '1987-07-11', 'job_id': 'ST_MAN', 'salary': '5800', 'commission_pct': '', 'manager_id': '100', 'department_id': '50'}\n",
            "{'employ_id': '125', 'first_name': 'Julia', 'last_name': 'Nayer', 'email': 'JNAYER', 'phone_number': '650.124.1214', 'hire_date': '1987-07-12', 'job_id': 'ST_CLERK', 'salary': '3200', 'commission_pct': '', 'manager_id': '120', 'department_id': '50'}\n",
            "{'employ_id': '126', 'first_name': 'Irene', 'last_name': 'Mikkilineni', 'email': 'IMIKKILI', 'phone_number': '650.124.1224', 'hire_date': '1987-07-13', 'job_id': 'ST_CLERK', 'salary': '2700', 'commission_pct': '', 'manager_id': '120', 'department_id': '50'}\n",
            "{'employ_id': '127', 'first_name': 'James', 'last_name': 'Landry', 'email': 'JLANDRY', 'phone_number': '650.124.1334', 'hire_date': '1987-07-14', 'job_id': 'ST_CLERK', 'salary': '2400', 'commission_pct': '', 'manager_id': '120', 'department_id': '50'}\n",
            "{'employ_id': '128', 'first_name': 'Steven', 'last_name': 'Markle', 'email': 'SMARKLE', 'phone_number': '650.124.1434', 'hire_date': '1987-07-15', 'job_id': 'ST_CLERK', 'salary': '2200', 'commission_pct': '', 'manager_id': '120', 'department_id': '50'}\n",
            "{'employ_id': '129', 'first_name': 'Laura', 'last_name': 'Bissot', 'email': 'LBISSOT', 'phone_number': '650.124.5234', 'hire_date': '1987-07-16', 'job_id': 'ST_CLERK', 'salary': '3300', 'commission_pct': '', 'manager_id': '121', 'department_id': '50'}\n",
            "{'employ_id': '130', 'first_name': 'Mozhe', 'last_name': 'Atkinson', 'email': 'MATKINSO', 'phone_number': '650.124.6234', 'hire_date': '1987-07-17', 'job_id': 'ST_CLERK', 'salary': '2800', 'commission_pct': '', 'manager_id': '121', 'department_id': '50'}\n",
            "{'employ_id': '131', 'first_name': 'James', 'last_name': 'Marlow', 'email': 'JAMRLOW', 'phone_number': '650.124.7234', 'hire_date': '1987-07-18', 'job_id': 'ST_CLERK', 'salary': '2500', 'commission_pct': '', 'manager_id': '121', 'department_id': '50'}\n",
            "{'employ_id': '132', 'first_name': 'TJ', 'last_name': 'Olson', 'email': 'TJOLSON', 'phone_number': '650.124.8234', 'hire_date': '1987-07-19', 'job_id': 'ST_CLERK', 'salary': '2100', 'commission_pct': '', 'manager_id': '121', 'department_id': '50'}\n",
            "{'employ_id': '133', 'first_name': 'Jason', 'last_name': 'Mallin', 'email': 'JMALLIN', 'phone_number': '650.127.1934', 'hire_date': '1987-07-20', 'job_id': 'ST_CLERK', 'salary': '3300', 'commission_pct': '', 'manager_id': '122', 'department_id': '50'}\n",
            "{'employ_id': '134', 'first_name': 'Michael', 'last_name': 'Rogers', 'email': 'MROGERS', 'phone_number': '650.127.1834', 'hire_date': '1987-07-21', 'job_id': 'ST_CLERK', 'salary': '2900', 'commission_pct': '', 'manager_id': '122', 'department_id': '50'}\n",
            "{'employ_id': '135', 'first_name': 'Ki', 'last_name': 'Gee', 'email': 'KGEE', 'phone_number': '650.127.1734', 'hire_date': '1987-07-22', 'job_id': 'ST_CLERK', 'salary': '2400', 'commission_pct': '', 'manager_id': '122', 'department_id': '50'}\n",
            "{'employ_id': '136', 'first_name': 'Hazel', 'last_name': 'Philtanker', 'email': 'HPHILTAN', 'phone_number': '650.127.1634', 'hire_date': '1987-07-23', 'job_id': 'ST_CLERK', 'salary': '2200', 'commission_pct': '', 'manager_id': '122', 'department_id': '50'}\n",
            "{'employ_id': '137', 'first_name': 'Renske', 'last_name': 'Ladwig', 'email': 'RLADWIG', 'phone_number': '650.121.1234', 'hire_date': '1987-07-24', 'job_id': 'ST_CLERK', 'salary': '3600', 'commission_pct': '', 'manager_id': '123', 'department_id': '50'}\n",
            "{'employ_id': '138', 'first_name': 'Stephen', 'last_name': 'Stiles', 'email': 'SSTILES', 'phone_number': '650.121.2034', 'hire_date': '1987-07-25', 'job_id': 'ST_CLERK', 'salary': '3200', 'commission_pct': '', 'manager_id': '123', 'department_id': '50'}\n",
            "{'employ_id': '139', 'first_name': 'John', 'last_name': 'Seo', 'email': 'JSEO', 'phone_number': '650.121.2019', 'hire_date': '1987-07-26', 'job_id': 'ST_CLERK', 'salary': '2700', 'commission_pct': '', 'manager_id': '123', 'department_id': '50'}\n",
            "{'employ_id': '140', 'first_name': 'Joshua', 'last_name': 'Patel', 'email': 'JPATEL', 'phone_number': '650.121.1834', 'hire_date': '1987-07-27', 'job_id': 'ST_CLERK', 'salary': '2500', 'commission_pct': '', 'manager_id': '123', 'department_id': '50'}\n",
            "{'employ_id': '141', 'first_name': 'Trenna', 'last_name': 'Rajs', 'email': 'TRAJS', 'phone_number': '650.121.8009', 'hire_date': '1987-07-28', 'job_id': 'ST_CLERK', 'salary': '3500', 'commission_pct': '', 'manager_id': '124', 'department_id': '50'}\n",
            "{'employ_id': '142', 'first_name': 'Curtis', 'last_name': 'Davies', 'email': 'CDAVIES', 'phone_number': '650.121.2994', 'hire_date': '1987-07-29', 'job_id': 'ST_CLERK', 'salary': '3100', 'commission_pct': '', 'manager_id': '124', 'department_id': '50'}\n",
            "{'employ_id': '143', 'first_name': 'Randall', 'last_name': 'Matos', 'email': 'RMATOS', 'phone_number': '650.121.2874', 'hire_date': '1987-07-30', 'job_id': 'ST_CLERK', 'salary': '2600', 'commission_pct': '', 'manager_id': '124', 'department_id': '50'}\n",
            "{'employ_id': '144', 'first_name': 'Peter', 'last_name': 'Vargas', 'email': 'PVARGAS', 'phone_number': '650.121.2004', 'hire_date': '1987-07-31', 'job_id': 'ST_CLERK', 'salary': '2500', 'commission_pct': '', 'manager_id': '124', 'department_id': '50'}\n",
            "{'employ_id': '145', 'first_name': 'John', 'last_name': 'Russell', 'email': 'JRUSSEL', 'phone_number': '011.44.1344.429268', 'hire_date': '1987-08-01', 'job_id': 'SA_MAN', 'salary': '14000', 'commission_pct': '0.4', 'manager_id': '100', 'department_id': '80'}\n",
            "{'employ_id': '146', 'first_name': 'Karen', 'last_name': 'Partners', 'email': 'KPARTNER', 'phone_number': '011.44.1344.467268', 'hire_date': '1987-08-02', 'job_id': 'SA_MAN', 'salary': '13500', 'commission_pct': '0.3', 'manager_id': '100', 'department_id': '80'}\n",
            "{'employ_id': '147', 'first_name': 'Alberto', 'last_name': 'Errazuriz', 'email': 'AERRAZUR', 'phone_number': '011.44.1344.429278', 'hire_date': '1987-08-03', 'job_id': 'SA_MAN', 'salary': '12000', 'commission_pct': '0.3', 'manager_id': '100', 'department_id': '80'}\n",
            "{'employ_id': '148', 'first_name': 'Gerald', 'last_name': 'Cambrault', 'email': 'GCAMBRAU', 'phone_number': '011.44.1344.619268', 'hire_date': '1987-08-04', 'job_id': 'SA_MAN', 'salary': '11000', 'commission_pct': '0.3', 'manager_id': '100', 'department_id': '80'}\n",
            "{'employ_id': '149', 'first_name': 'Eleni', 'last_name': 'Zlotkey', 'email': 'EZLOTKEY', 'phone_number': '011.44.1344.429018', 'hire_date': '1987-08-05', 'job_id': 'SA_MAN', 'salary': '10500', 'commission_pct': '0.2', 'manager_id': '100', 'department_id': '80'}\n",
            "{'employ_id': '150', 'first_name': 'Peter', 'last_name': 'Tucker', 'email': 'PTUCKER', 'phone_number': '011.44.1344.129268', 'hire_date': '1987-08-06', 'job_id': 'SA_REP', 'salary': '10000', 'commission_pct': '0.3', 'manager_id': '145', 'department_id': '80'}\n"
          ]
        }
      ]
    },
    {
      "cell_type": "code",
      "source": [
        "# 5. Write a Python program to read a given CSV files with initial spaces after a delimiter and remove those initial spaces.\n",
        "\n",
        "with open('departments.csv','r') as csvfile:\n",
        "   data = csv.reader(csvfile, delimiter=\" \")\n",
        "   for row in data:\n",
        "     print(''.join(row))\n",
        "\n"
      ],
      "metadata": {
        "colab": {
          "base_uri": "https://localhost:8080/"
        },
        "id": "E5KqTsN7na1L",
        "outputId": "0c200fc6-6477-4ad7-d5ca-030d87f00a7d"
      },
      "execution_count": null,
      "outputs": [
        {
          "output_type": "stream",
          "name": "stdout",
          "text": [
            "department_id,department_name,manager_id,location_id\n",
            "10,Administration,200,1700\n",
            "20,Marketing,201,1800\n",
            "30,Purchasing,114,1700\n",
            "40,HumanResources,203,2400\n",
            "50,Shipping,121,1500\n",
            "60,IT,103,1400\n",
            "70,PublicRelations,204,2700\n",
            "80,Sales,145,2500\n"
          ]
        }
      ]
    },
    {
      "cell_type": "code",
      "source": [
        "# 6. Write a Python program that reads a CSV file and remove initial spaces, quotes around each entry and the delimiter.\n",
        "\n",
        "with open('departments.csv','r') as csvfile:\n",
        "   data = csv.reader(csvfile, delimiter=\",\")\n",
        "   for row in data:\n",
        "     print(''.join(row))"
      ],
      "metadata": {
        "id": "cK_VnZca131U",
        "colab": {
          "base_uri": "https://localhost:8080/"
        },
        "outputId": "c8e4d981-bf10-490d-af45-75e8e1f0d602"
      },
      "execution_count": null,
      "outputs": [
        {
          "output_type": "stream",
          "name": "stdout",
          "text": [
            "department_id department_name  manager_id  location_id\n",
            "10 Administration 200 1700\n",
            "20 Marketing 201 1800\n",
            "30 Purchasing 114 1700\n",
            "40 Human Resources 203 2400\n",
            "50 Shipping 121 1500\n",
            "60 IT 103 1400\n",
            "70 Public Relations 204 2700\n",
            "80 Sales 145 2500\n"
          ]
        }
      ]
    },
    {
      "cell_type": "code",
      "source": [
        "# 7. Write a Python program to read specific columns of a given CSV file and print the content of the columns.\n",
        "\n",
        "with open('departments.csv', newline='') as csvfile:\n",
        " data = csv.DictReader(csvfile)\n",
        " for row in data:\n",
        "   print(row['department_id'])"
      ],
      "metadata": {
        "colab": {
          "base_uri": "https://localhost:8080/"
        },
        "id": "H7E84rJpdTZ6",
        "outputId": "f93a4bda-5efd-4499-e9f0-2ee3518f7aee"
      },
      "execution_count": null,
      "outputs": [
        {
          "output_type": "stream",
          "name": "stdout",
          "text": [
            "10\n",
            "20\n",
            "30\n",
            "40\n",
            "50\n",
            "60\n",
            "70\n",
            "80\n"
          ]
        }
      ]
    },
    {
      "cell_type": "code",
      "source": [
        "# 8. Write a Python program that reads each row of a given csv file and skip the header of the file. Also print the number of rows and the field names.\n",
        "\n",
        "fields = []\n",
        "rows = []\n",
        "with open('departments.csv', newline='') as csvfile:\n",
        " data = csv.reader(csvfile)\n",
        "\n",
        " fields = next(data)\n",
        " for row in data:\n",
        "   print(''.join(row))\n",
        "print(\"Number of rows: %d\"%(data.line_num))\n",
        "print('Field names:', ','.join(field for field in fields))"
      ],
      "metadata": {
        "colab": {
          "base_uri": "https://localhost:8080/"
        },
        "id": "3MjL673hINOd",
        "outputId": "9a765cd1-3908-4c53-f3be-f36e38f41b43"
      },
      "execution_count": null,
      "outputs": [
        {
          "output_type": "stream",
          "name": "stdout",
          "text": [
            "10 Administration 200 1700\n",
            "20 Marketing 201 1800\n",
            "30 Purchasing 114 1700\n",
            "40 Human Resources 203 2400\n",
            "50 Shipping 121 1500\n",
            "60 IT 103 1400\n",
            "70 Public Relations 204 2700\n",
            "80 Sales 145 2500\n",
            "Number of rows: 9\n",
            "Field names: department_id, department_name,  manager_id,  location_id\n"
          ]
        }
      ]
    },
    {
      "cell_type": "code",
      "source": [
        "# 9. Write a Python program to create an object for writing and iterate over the rows to print the values.\n",
        "\n",
        "import sys\n",
        "with open('departments.csv', 'wt') as csvfile:\n",
        "    writer = csv.writer(csvfile)\n",
        "    writer.writerow(('id1', 'id2', 'date'))\n",
        "    for i in range(3):\n",
        "        row = (i + 3, chr(ord('a') + i), '01/{:02d}/2019'.format(i + 3),)\n",
        "        writer.writerow(row)\n",
        "print(open('departments.csv', 'rt').read())"
      ],
      "metadata": {
        "colab": {
          "base_uri": "https://localhost:8080/"
        },
        "id": "3QUfx0BpJ1ff",
        "outputId": "7d624914-7d5a-4cc9-a6e3-2d7f4b228a15"
      },
      "execution_count": null,
      "outputs": [
        {
          "output_type": "stream",
          "name": "stdout",
          "text": [
            "id1,id2,date\n",
            "3,a,01/03/2019\n",
            "4,b,01/04/2019\n",
            "5,c,01/05/2019\n",
            "\n"
          ]
        }
      ]
    },
    {
      "cell_type": "code",
      "source": [
        "# 10. Write a Python program to write a Python list of lists to a csv file. After writing the CSV file read the CSV file and display the content.\n",
        "\n",
        "info = [['AR','Argentina', 2], ['AU','Australia', 3], ['BE', 'Belgium', 1], ['BR', 'Brazil', 2], ['CA', 'Canada', 2]]\n",
        "with open(\"countries.csv\", \"w\", newline=\"\") as csvfile:\n",
        "   writer = csv.writer(csvfile)\n",
        "   writer.writerows(info)\n",
        "with open('countries.csv', newline='') as csvfile:\n",
        " info = csv.reader(csvfile)\n",
        " for row in info:\n",
        "   print(', '.join(row))"
      ],
      "metadata": {
        "colab": {
          "base_uri": "https://localhost:8080/"
        },
        "id": "4WfRteX2N9P3",
        "outputId": "8875df83-dd18-45b4-b8a7-f4ae62f1330c"
      },
      "execution_count": null,
      "outputs": [
        {
          "output_type": "stream",
          "name": "stdout",
          "text": [
            "AR, Argentina, 2\n",
            "AU, Australia, 3\n",
            "BE, Belgium, 1\n",
            "BR, Brazil, 2\n",
            "CA, Canada, 2\n"
          ]
        }
      ]
    },
    {
      "cell_type": "code",
      "source": [
        "# 11. Write a Python program to write a Python dictionary to a csv file. After writing the CSV file read the CSV file and display the content.\n",
        "\n",
        "csv_columns = ['country id','country name', 'region id']\n",
        "dict = {\n",
        "    'country id':['AR', 'AU', 'BE', 'BR', 'CA'],\n",
        "    'country name':['Argentina', 'Australia', 'Belgium', 'Brazil', 'Canada'],\n",
        "    'region id':[2, 3, 1, 2, 2]\n",
        "}\n",
        "csv_file = \"countries.csv\"\n",
        "try:\n",
        "   with open(csv_file, 'w') as csvfile:\n",
        "       writer = csv.DictWriter(csvfile, fieldnames=csv_columns)\n",
        "       writer.writeheader()\n",
        "       for data in dict:\n",
        "           writer.writerow(dict)\n",
        "except IOError:\n",
        "   print(\"I/O error\")\n",
        "data = csv.DictReader(open(csv_file))\n",
        "for row in data:\n",
        "   print(row)"
      ],
      "metadata": {
        "colab": {
          "base_uri": "https://localhost:8080/"
        },
        "id": "y50SFD9jTv57",
        "outputId": "55d6cd3e-be2e-4d4d-bc98-1b47840805bc"
      },
      "execution_count": null,
      "outputs": [
        {
          "output_type": "stream",
          "name": "stdout",
          "text": [
            "{'country id': \"['AR', 'AU', 'BE', 'BR', 'CA']\", 'country name': \"['Argentina', 'Australia', 'Belgium', 'Brazil', 'Canada']\", 'region id': '[2, 3, 1, 2, 2]'}\n",
            "{'country id': \"['AR', 'AU', 'BE', 'BR', 'CA']\", 'country name': \"['Argentina', 'Australia', 'Belgium', 'Brazil', 'Canada']\", 'region id': '[2, 3, 1, 2, 2]'}\n",
            "{'country id': \"['AR', 'AU', 'BE', 'BR', 'CA']\", 'country name': \"['Argentina', 'Australia', 'Belgium', 'Brazil', 'Canada']\", 'region id': '[2, 3, 1, 2, 2]'}\n"
          ]
        }
      ]
    }
  ]
}