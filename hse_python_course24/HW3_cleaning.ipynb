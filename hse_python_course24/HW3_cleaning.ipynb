{
  "nbformat": 4,
  "nbformat_minor": 0,
  "metadata": {
    "colab": {
      "provenance": [],
      "include_colab_link": true
    },
    "kernelspec": {
      "name": "python3",
      "display_name": "Python 3"
    },
    "language_info": {
      "name": "python"
    }
  },
  "cells": [
    {
      "cell_type": "markdown",
      "metadata": {
        "id": "view-in-github",
        "colab_type": "text"
      },
      "source": [
        "<a href=\"https://colab.research.google.com/github/alinavandreeva/alinavandreeva/blob/main/hse_python_course24/HW3_cleaning.ipynb\" target=\"_parent\"><img src=\"https://colab.research.google.com/assets/colab-badge.svg\" alt=\"Open In Colab\"/></a>"
      ]
    },
    {
      "cell_type": "markdown",
      "source": [
        "**Data Cleaning** (чистка данных) - этап предварительной обработки данных для анализа данных и машинного обучения.\n",
        "\n",
        "**Примеры Data Cleaning:**\n",
        "- удаление избыточных столбцов из табличных данных;\n",
        "- приведение текста к нижнему регистру;\n",
        "- чистка текста от HTML-артефактов\n",
        "\n",
        "Загрузим тренировочный датасет, почистим его и проанализируем результаты."
      ],
      "metadata": {
        "id": "Vl6M3rDU5XhG"
      }
    },
    {
      "cell_type": "markdown",
      "source": [
        "# Задание 1: Загрузка данных\n",
        "\n",
        "Загрузим тренировочный датасет и посмотрим на наши данные.\n",
        "\n",
        "Представим, что мы загрузили статью в формате HTML.\n",
        "\n",
        "Скачаем ее и выведем на экран первые 100 символов с помощью слайсинга (среза)."
      ],
      "metadata": {
        "id": "LK_zsNv26Tsk"
      }
    },
    {
      "cell_type": "code",
      "source": [
        "# загружаем тренировочные данные\n",
        "!wget https://raw.githubusercontent.com/vifirsanova/hse-python-course/main/data/data_cleaning.txt"
      ],
      "metadata": {
        "colab": {
          "base_uri": "https://localhost:8080/"
        },
        "id": "tbak8zIx8i6_",
        "outputId": "340c1650-bac1-4ebd-e53d-e9e0f835d87e"
      },
      "execution_count": 24,
      "outputs": [
        {
          "output_type": "stream",
          "name": "stdout",
          "text": [
            "--2024-10-13 20:29:47--  https://raw.githubusercontent.com/vifirsanova/hse-python-course/main/data/data_cleaning.txt\n",
            "Resolving raw.githubusercontent.com (raw.githubusercontent.com)... 185.199.108.133, 185.199.109.133, 185.199.111.133, ...\n",
            "Connecting to raw.githubusercontent.com (raw.githubusercontent.com)|185.199.108.133|:443... connected.\n",
            "HTTP request sent, awaiting response... 200 OK\n",
            "Length: 2377 (2.3K) [text/plain]\n",
            "Saving to: ‘data_cleaning.txt.1’\n",
            "\n",
            "\rdata_cleaning.txt.1   0%[                    ]       0  --.-KB/s               \rdata_cleaning.txt.1 100%[===================>]   2.32K  --.-KB/s    in 0s      \n",
            "\n",
            "2024-10-13 20:29:48 (32.9 MB/s) - ‘data_cleaning.txt.1’ saved [2377/2377]\n",
            "\n"
          ]
        }
      ]
    },
    {
      "cell_type": "code",
      "source": [
        "# запишем данные в переменную data\n",
        "with open('data_cleaning.txt', 'r') as f:\n",
        "  data = f.read()"
      ],
      "metadata": {
        "id": "OJ68oc8E8r9P"
      },
      "execution_count": 25,
      "outputs": []
    },
    {
      "cell_type": "code",
      "source": [
        "# выведите на экран первые 100 символов с помощью слайсинга\n",
        "print(data[:100])"
      ],
      "metadata": {
        "colab": {
          "base_uri": "https://localhost:8080/"
        },
        "id": "EZ9GtP8s86V8",
        "outputId": "d2d3de94-0288-422f-fef2-4914833a5a20"
      },
      "execution_count": 26,
      "outputs": [
        {
          "output_type": "stream",
          "name": "stdout",
          "text": [
            "<!DOCTYPE html>\n",
            "<html>\n",
            "<head>\n",
            "    <title>Sample HTML Document</title>\n",
            "</head>\n",
            "<body>\n",
            "    <h1>Welcome\n"
          ]
        }
      ]
    },
    {
      "cell_type": "markdown",
      "source": [
        "# Задание 2: Удаление артефактов\n",
        "\n",
        "В данных много артефактов - HTML-тегов.\n",
        "\n",
        "Удалим HTML-артефакты с помощью регулярных выражений RegEx"
      ],
      "metadata": {
        "id": "XIGQ9xGQ6t1U"
      }
    },
    {
      "cell_type": "code",
      "source": [
        "# пропишем паттерн для поиска HTML-тегов вида <tag> ... </tag>\n",
        "import re   # загрузим библиотеку для обработки регулярных выражений\n",
        "\n",
        "tag_pattern = r'<[^>]+>'    # паттерн для поиска тегов"
      ],
      "metadata": {
        "id": "aQ0ka1oq9uVz"
      },
      "execution_count": 27,
      "outputs": []
    },
    {
      "cell_type": "markdown",
      "source": [
        "Используйте функцию `re.sub` (substitution) для чистки данных\n",
        "\n",
        "`re.sub` ищет в строке `string` соответствия RegEx-паттерну `pattern` и меняет найденное на указанную строку `repl`\n",
        "\n",
        "Как используем функцию: `re.sub(pattern, repl, string)`\n",
        "\n",
        "- `pattern` - паттерн RegEx, соответствия которому будет искать функция\n",
        "- `repl` - на что будем менять найденные соответствия\n",
        "- `string` - где будем искать, наш датасет\n",
        "\n",
        "Запишите результат в переменную `clean_text` и выведите на экран с 720-го по 800-ый символ очищенного текста\n",
        "\n",
        "Используйте слайсинг"
      ],
      "metadata": {
        "id": "h8oleHAo_UaY"
      }
    },
    {
      "cell_type": "code",
      "source": [
        "# Подсказки:\n",
        "# используйте паттерн, записанный в переменную tag_pattern\n",
        "# замените результат на пустую строку \"\"\n",
        "### ваш код здесь: примените re.sub ###\n",
        "### ваш код здесь: выведите результат с 720-го по 800-ый символ ###\n",
        "clean_text = re.sub(tag_pattern, '', data)\n",
        "print(clean_text[720:800])"
      ],
      "metadata": {
        "colab": {
          "base_uri": "https://localhost:8080/"
        },
        "id": "DjqjGi8P-H6O",
        "outputId": "60bc4fc1-100c-45cf-f89c-87a64ccd7f43"
      },
      "execution_count": 32,
      "outputs": [
        {
          "output_type": "stream",
          "name": "stdout",
          "text": [
            " It's crucial to handle HTML entities such as &lt;div&gt;, &lt;p&gt;, &amp;, etc\n"
          ]
        }
      ]
    },
    {
      "cell_type": "markdown",
      "source": [
        "Мы удалили не все специальные символы HTML\n",
        "\n",
        "Создадим еще один паттерн и повторим процедуру"
      ],
      "metadata": {
        "id": "fZAWGBC7Ajr7"
      }
    },
    {
      "cell_type": "code",
      "source": [
        "symbols_pattern = r'&\\w+;'    # паттерн для поиска специальных символов"
      ],
      "metadata": {
        "id": "jIftruIgBuQj"
      },
      "execution_count": 29,
      "outputs": []
    },
    {
      "cell_type": "markdown",
      "source": [
        "Используйте `re.sub` для удаления этих символов\n",
        "\n",
        "Теперь функция принимает на вход паттерн `symbols_pattern` и текст `clean_text`\n",
        "\n",
        "Перезапишите переменную `clean_text`\n",
        "\n",
        "Выведите на экран с 720-го по 800-ый символ, чтобы убедиться в том, что чистка прошла успешно"
      ],
      "metadata": {
        "id": "LJ19ehiFB5d6"
      }
    },
    {
      "cell_type": "code",
      "source": [
        "### ваш код здесь: примените re.sub ###\n",
        "### ваш код здесь: выведите результат с 720-го по 800-ый символ ###\n",
        "clean_text1 = re.sub(symbols_pattern, '', clean_text)\n",
        "print(clean_text1[720:800])"
      ],
      "metadata": {
        "colab": {
          "base_uri": "https://localhost:8080/"
        },
        "id": "UsX39hWDCLR6",
        "outputId": "12526367-b24c-4cc0-fd1d-6d44f537637a"
      },
      "execution_count": 33,
      "outputs": [
        {
          "output_type": "stream",
          "name": "stdout",
          "text": [
            " It's crucial to handle HTML entities such as div, p, , etc. HTML entities are s\n"
          ]
        }
      ]
    },
    {
      "cell_type": "markdown",
      "source": [
        "В нашем тексте остались двойные пробелы\n",
        "\n",
        "Уберем им с помощью очередного паттерна"
      ],
      "metadata": {
        "id": "mP70Rf3oCKNZ"
      }
    },
    {
      "cell_type": "code",
      "source": [
        "# выведите на экран первые 100 символов вашего текущего результата\n",
        "# на этот раз не используйте print\n",
        "### ваш код здесь\n",
        "data[:100]"
      ],
      "metadata": {
        "colab": {
          "base_uri": "https://localhost:8080/",
          "height": 36
        },
        "id": "GMGJDpaEDHx5",
        "outputId": "53b4a26f-2ddd-45b7-c84e-7f0ba7447a09"
      },
      "execution_count": 35,
      "outputs": [
        {
          "output_type": "execute_result",
          "data": {
            "text/plain": [
              "'<!DOCTYPE html>\\n<html>\\n<head>\\n    <title>Sample HTML Document</title>\\n</head>\\n<body>\\n    <h1>Welcome'"
            ],
            "application/vnd.google.colaboratory.intrinsic+json": {
              "type": "string"
            }
          },
          "metadata": {},
          "execution_count": 35
        }
      ]
    },
    {
      "cell_type": "markdown",
      "source": [
        "Создаем паттерн для поиска двойных пробелов\n",
        "\n",
        "Повторите процедуру, перезапишите результат в `clean_text` и выведите первые 100 символов\n",
        "\n",
        "Что мы запишем в переменную `repl`, чтобы не удалить абсолютно все пробелы?"
      ],
      "metadata": {
        "id": "GpgXBzMxDicX"
      }
    },
    {
      "cell_type": "code",
      "source": [
        "space_pattern = r'\\s+'\n",
        "\n",
        "### ваш код здесь: примените re.sub ###\n",
        "### ваш код здесь: выведите первые 100 символов, не используя print ###\n",
        "clean_text2 = re.sub(space_pattern, ' ', data)\n",
        "data[:100]"
      ],
      "metadata": {
        "colab": {
          "base_uri": "https://localhost:8080/",
          "height": 36
        },
        "id": "aQ-ZqbEcDcIE",
        "outputId": "930d1cf1-8c62-44d1-cf19-6d772f90ef03"
      },
      "execution_count": 43,
      "outputs": [
        {
          "output_type": "execute_result",
          "data": {
            "text/plain": [
              "'<!DOCTYPE html>\\n<html>\\n<head>\\n    <title>Sample HTML Document</title>\\n</head>\\n<body>\\n    <h1>Welcome'"
            ],
            "application/vnd.google.colaboratory.intrinsic+json": {
              "type": "string"
            }
          },
          "metadata": {},
          "execution_count": 43
        }
      ]
    },
    {
      "cell_type": "markdown",
      "source": [
        "# Задание 3: Смена регистра\n",
        "\n",
        "Приведем все слова к нижнему регистру с помощью функции `lower`\n",
        "\n",
        "Запишем результат в переменную `text_lower` и выведем на экран последние 100 символов"
      ],
      "metadata": {
        "id": "Hwtj4l2x6bwS"
      }
    },
    {
      "cell_type": "code",
      "source": [
        "### ваш код здесь: примените lower к clean_text ###\n",
        "### ваш код здесь: выведите первые 100 символов с конца, используйте слайсинг и не забудьте про - ###\n",
        "text_lower = clean_text2.lower()\n",
        "print(text_lower[-100:])"
      ],
      "metadata": {
        "colab": {
          "base_uri": "https://localhost:8080/"
        },
        "id": "NbmH8JL0EPeg",
        "outputId": "a6c8ca07-a8dd-4260-a2cc-73203e75fb37"
      },
      "execution_count": 52,
      "outputs": [
        {
          "output_type": "stream",
          "name": "stdout",
          "text": [
            "aking predictions, or generating insights to support decision-making processes.</p> </body> </html> \n"
          ]
        }
      ]
    },
    {
      "cell_type": "markdown",
      "source": [
        "# Задание 4: Удаление стоп-слов\n",
        "\n",
        "Удалим частотные слова, которые создают шум для решения задач\n",
        "\n",
        "Загрузим список стоп-слов"
      ],
      "metadata": {
        "id": "vkxdtN1Q6mwU"
      }
    },
    {
      "cell_type": "code",
      "source": [
        "!wget https://raw.githubusercontent.com/vifirsanova/hse-python-course/main/data/stopwords.txt"
      ],
      "metadata": {
        "colab": {
          "base_uri": "https://localhost:8080/"
        },
        "id": "8ypsKpKBE6T-",
        "outputId": "393102c7-11b1-4782-defb-46af7b520315"
      },
      "execution_count": 53,
      "outputs": [
        {
          "output_type": "stream",
          "name": "stdout",
          "text": [
            "--2024-10-13 21:08:24--  https://raw.githubusercontent.com/vifirsanova/hse-python-course/main/data/stopwords.txt\n",
            "Resolving raw.githubusercontent.com (raw.githubusercontent.com)... 185.199.108.133, 185.199.109.133, 185.199.110.133, ...\n",
            "Connecting to raw.githubusercontent.com (raw.githubusercontent.com)|185.199.108.133|:443... connected.\n",
            "HTTP request sent, awaiting response... 200 OK\n",
            "Length: 954 [text/plain]\n",
            "Saving to: ‘stopwords.txt’\n",
            "\n",
            "\rstopwords.txt         0%[                    ]       0  --.-KB/s               \rstopwords.txt       100%[===================>]     954  --.-KB/s    in 0s      \n",
            "\n",
            "2024-10-13 21:08:24 (50.1 MB/s) - ‘stopwords.txt’ saved [954/954]\n",
            "\n"
          ]
        }
      ]
    },
    {
      "cell_type": "code",
      "source": [
        "# запишем данные в переменную stopwords\n",
        "with open('stopwords.txt', 'r') as f:\n",
        "  stopwords = f.read().split()"
      ],
      "metadata": {
        "id": "_c1xfdkgFNcg"
      },
      "execution_count": 54,
      "outputs": []
    },
    {
      "cell_type": "markdown",
      "source": [
        "Выведите на экран первые 10 стоп-слов"
      ],
      "metadata": {
        "id": "nansznnrFVN-"
      }
    },
    {
      "cell_type": "code",
      "source": [
        "### ваш код здесь ###\n",
        "stopwords[:10]"
      ],
      "metadata": {
        "colab": {
          "base_uri": "https://localhost:8080/"
        },
        "id": "Pctau5NgFYJG",
        "outputId": "d2102a5e-44de-49ad-c3f8-432097d5876e"
      },
      "execution_count": 55,
      "outputs": [
        {
          "output_type": "execute_result",
          "data": {
            "text/plain": [
              "['a', 'about', 'above', 'after', 'again', 'against', 'all', 'am', 'an', 'and']"
            ]
          },
          "metadata": {},
          "execution_count": 55
        }
      ]
    },
    {
      "cell_type": "markdown",
      "source": [
        "С помощью `random` мы можем \"вытянуть\" из списка стоп-слов случайное слово"
      ],
      "metadata": {
        "id": "7C4R5y63Fqrl"
      }
    },
    {
      "cell_type": "code",
      "source": [
        "import random\n",
        "random.choice(stopwords)"
      ],
      "metadata": {
        "colab": {
          "base_uri": "https://localhost:8080/",
          "height": 36
        },
        "id": "8SX-lcCAFjNc",
        "outputId": "a66dcb17-f92e-463e-f07e-afc78264ad39"
      },
      "execution_count": 56,
      "outputs": [
        {
          "output_type": "execute_result",
          "data": {
            "text/plain": [
              "'off'"
            ],
            "application/vnd.google.colaboratory.intrinsic+json": {
              "type": "string"
            }
          },
          "metadata": {},
          "execution_count": 56
        }
      ]
    },
    {
      "cell_type": "markdown",
      "source": [
        "\"Вытяните\" еще одно случайное слово и запишите его в переменную `random_word`"
      ],
      "metadata": {
        "id": "tPDPQYYTFwsM"
      }
    },
    {
      "cell_type": "code",
      "source": [
        "### ваш код здесь ###\n",
        "random_word = random.choice(stopwords)\n",
        "print(random_word)"
      ],
      "metadata": {
        "id": "oJkDb27LF75t",
        "outputId": "3e051474-f913-469e-9228-7c5b98eb4ff3",
        "colab": {
          "base_uri": "https://localhost:8080/"
        }
      },
      "execution_count": 59,
      "outputs": [
        {
          "output_type": "stream",
          "name": "stdout",
          "text": [
            "she's\n"
          ]
        }
      ]
    },
    {
      "cell_type": "markdown",
      "source": [],
      "metadata": {
        "id": "FbxN_OcHvGKY"
      }
    },
    {
      "cell_type": "markdown",
      "source": [
        "Проверьте, есть ли это слово в `text_lower` с помощью `in`\n",
        "\n",
        "Выведите на экран это слово"
      ],
      "metadata": {
        "id": "erv_tjszGZlo"
      }
    },
    {
      "cell_type": "code",
      "source": [
        "### ваш код здесь: вывод на экран текста \"Результат проверки:\" и проверки с in ###\n",
        "### ваш код здесь: вывод текста \"Случайное слово:\" и random_word ###\n",
        "random_word = random.choice(stopwords)\n",
        "if random_word in text_lower:\n",
        "  print(f'Результат проверки: True \\nСлучайное слово: {random_word}')"
      ],
      "metadata": {
        "colab": {
          "base_uri": "https://localhost:8080/"
        },
        "id": "j2NJtaSOGBDT",
        "outputId": "62ac4390-1d2e-4f14-b156-5bd9c0c6f602"
      },
      "execution_count": 86,
      "outputs": [
        {
          "output_type": "stream",
          "name": "stdout",
          "text": [
            "Результат проверки: True \n",
            "Случайное слово: from\n"
          ]
        }
      ]
    },
    {
      "cell_type": "markdown",
      "source": [
        "Попробуйте сгенерировать еще несколько слов и проверить их наличие в `text_lower`\n",
        "\n",
        "Для этого запустите повторно две последние ячейки"
      ],
      "metadata": {
        "id": "VBJJHLvrHCCO"
      }
    },
    {
      "cell_type": "code",
      "source": [
        "\"\"\"\n",
        "Вот так будет выглядеть текст после удаления стоп-слов _без_ токенизации\n",
        "Заменятся все аналогичные сочетания знаков\n",
        "Поэтому перед _удалением_ стоп-слов, проведем токенизацию\n",
        "\"\"\""
      ],
      "metadata": {
        "colab": {
          "base_uri": "https://localhost:8080/",
          "height": 105
        },
        "id": "gY7oeXTXGW0D",
        "outputId": "29a5fe30-9fd3-447b-9de7-5ed01589fdd4"
      },
      "execution_count": null,
      "outputs": [
        {
          "output_type": "execute_result",
          "data": {
            "text/plain": [
              "' s mple html  cu nt  lco    d t  cle n ng t   s   s mple p r gr ph w th html  rt f cts    s bold  nd  t l c text. d t  cle n ng  s  n essent  l process  n prep r ng d t     n lys s.  t  nvolves v r ous techn ques   cle n, tr ns m,  nd preprocess d t .  n d t  cle n ng,  t\\'s  mp t nt   remove s p w ds l ke \"t \", \" nd\", \" \", etc. s p w ds  re comm  w ds th t  re  ten f ltered     text d t   c use t y    t c rry s gn f c nt   n ng.  re\\'s   t r p r gr ph.   t  s text  s  n  perc se   lo rc se.  t\\'s  mp t nt   st nd rd ze t  text c se   ensure c s stency  n t  d t set. t  c n    ch eved   c vert ng  ll text   lo rc se    perc se.  t\\'s cruc  l   h ndle html ent t es    s d v, p, , etc. html ent t es  re spec  l ch r cters   symbols th t h ve spec f c   n ngs  n html. t y need     properly h ndled    vo d  ssues   d t  process ng. d t  cle n ng  l   nvolves de l ng w th m ss ng v lues. m ss ng v lues c n occur due   v r ous re s s    s  ncomplete d t  collect     d t  entry err s.  t\\'s essent  l    dent fy  nd h ndle m ss ng v lues  ppropr  tely    vo d b  s  n t   n lys s. text d t   ten c t  ns   se    s punctu t   m rks, spec  l ch r cters,  nd d g ts. remov ng   se   text d t   s necess ry   focus   t    n ngful c tent. techn ques    s regul r express  s c n   used     se remov l.   t r  mp t nt  spect   d t  cle n ng  s ded l c t  . d l c te rec ds  n   d t set c n skew  n lys s results  nd le d    n ccur te c clus  s.  dent fy ng  nd remov ng d l c te rec ds ensures d t   ntegr ty  nd  mproves t  qu l ty    n lys s.  fter cle n ng t  d t ,  t\\'s essent  l   per m expl  t y d t   n lys s (ed )   g  n  ns ghts  nd  dent fy p tterns. ed   nvolves v su l z ng d t , comput ng summ ry st t st cs,  nd expl  ng rel t  sh ps  t en v r  bles.  ce t  d t   s cle ned  nd  n lyzed,  t c n   used   v r ous purposes    s bu ld ng m ch ne le rn ng models, m k ng pred ct  s,   gener t ng  ns ghts   s p t dec s  -m k ng processes. '"
            ],
            "application/vnd.google.colaboratory.intrinsic+json": {
              "type": "string"
            }
          },
          "metadata": {},
          "execution_count": 91
        }
      ]
    },
    {
      "cell_type": "markdown",
      "source": [
        "# Задание 5: Токенизация\n",
        "\n",
        "Токенизируем датасет для дальнейшей работы\n",
        "\n",
        "Создадим 2 набора токенов: с сегментацией по предложениям и с сегментацией по словам"
      ],
      "metadata": {
        "id": "Mepvb0Kw7Ncq"
      }
    },
    {
      "cell_type": "markdown",
      "source": [
        "Создайте переменную `sentences`\n",
        "\n",
        "С помощью `split` разделите текст на предложения (сегменты, разделенные знаком `.`)\n",
        "\n",
        "Выведите на экран первые 10 элементов `sentences`"
      ],
      "metadata": {
        "id": "Me63a7SNLa6C"
      }
    },
    {
      "cell_type": "code",
      "source": [
        "### ваш код здесь: split для сегментации по знаку `.` ###\n",
        "### вывод на экран первых 10 предложений ###\n",
        "sentences = data.split('.')\n",
        "sentences[:10]"
      ],
      "metadata": {
        "colab": {
          "base_uri": "https://localhost:8080/"
        },
        "id": "8G13fM_27M1t",
        "outputId": "26ee06a1-1005-4ccd-9715-bcca00b28830"
      },
      "execution_count": 87,
      "outputs": [
        {
          "output_type": "execute_result",
          "data": {
            "text/plain": [
              "['<!DOCTYPE html>\\n<html>\\n<head>\\n    <title>Sample HTML Document</title>\\n</head>\\n<body>\\n    <h1>Welcome to Data Cleaning</h1>\\n    <p>This is a sample paragraph with <b>HTML artifacts</b> such as <i>bold</i> and <u>italic</u> text',\n",
              " ' Data cleaning is an essential process in preparing data for analysis',\n",
              " ' It involves various techniques to clean, transform, and preprocess data',\n",
              " '</p>\\n    <p>In data cleaning, it\\'s important to remove <em>stop words</em> like \"the\", \"and\", \"of\", etc',\n",
              " ' Stop words are common words that are often filtered out from text data because they do not carry significant meaning',\n",
              " \"</p>\\n    <p>Here's another paragraph\",\n",
              " ' Sometimes text is in <strong>UPPERCASE</strong> or <em>lowercase</em>',\n",
              " \" It's important to standardize the text case to ensure consistency in the dataset\",\n",
              " ' This can be achieved by converting all text to lowercase or uppercase',\n",
              " \"</p>\\n    <p>It's crucial to handle <code>HTML entities</code> such as &lt;div&gt;, &lt;p&gt;, &amp;, etc\"]"
            ]
          },
          "metadata": {},
          "execution_count": 87
        }
      ]
    },
    {
      "cell_type": "markdown",
      "source": [
        "Создайте переменную `tokens`\n",
        "\n",
        "С помощью `split` разделите текст `text_lower` на слова\n",
        "\n",
        "Выведите первые 10 элементов"
      ],
      "metadata": {
        "id": "6J_C8cq0L2rB"
      }
    },
    {
      "cell_type": "code",
      "source": [
        "### ваш код здесь: split для сегментации по пробелу ###\n",
        "### ваш код здесь: вывод на экран первых 10 слов ###\n",
        "tokens = []\n",
        "tokens = text_lower.split(' ')\n",
        "tokens[:10]"
      ],
      "metadata": {
        "colab": {
          "base_uri": "https://localhost:8080/"
        },
        "id": "Rj3dXh576a5A",
        "outputId": "e8223713-61f4-43fb-d68f-874ee9d70e35"
      },
      "execution_count": 88,
      "outputs": [
        {
          "output_type": "execute_result",
          "data": {
            "text/plain": [
              "['<!doctype',\n",
              " 'html>',\n",
              " '<html>',\n",
              " '<head>',\n",
              " '<title>sample',\n",
              " 'html',\n",
              " 'document</title>',\n",
              " '</head>',\n",
              " '<body>',\n",
              " '<h1>welcome']"
            ]
          },
          "metadata": {},
          "execution_count": 88
        }
      ]
    },
    {
      "cell_type": "markdown",
      "source": [
        " Удалим стоп-слова"
      ],
      "metadata": {
        "id": "5Q7FfNK9MJ_K"
      }
    },
    {
      "cell_type": "code",
      "source": [
        "clean_tokens = []\n",
        "\n",
        "for token in tokens:  # итерация по списку токенов tokens\n",
        "  if token not in stopwords:  # проверяем отсутствие токена в списке стоп-слов\n",
        "    clean_tokens.append(token)  # добавляем токен в новый очищенный список токенов, если его нет в стоп-словах\n",
        "\n",
        "### ваш код здесь: вывод на экран первых 10 элементов clean_tokens ###\n",
        "clean_tokens[:10]"
      ],
      "metadata": {
        "colab": {
          "base_uri": "https://localhost:8080/"
        },
        "id": "QMy-_DNJ0HF3",
        "outputId": "f24e05de-7b8b-489b-f9d9-855f3bac61a0"
      },
      "execution_count": 89,
      "outputs": [
        {
          "output_type": "execute_result",
          "data": {
            "text/plain": [
              "['<!doctype',\n",
              " 'html>',\n",
              " '<html>',\n",
              " '<head>',\n",
              " '<title>sample',\n",
              " 'html',\n",
              " 'document</title>',\n",
              " '</head>',\n",
              " '<body>',\n",
              " '<h1>welcome']"
            ]
          },
          "metadata": {},
          "execution_count": 89
        }
      ]
    },
    {
      "cell_type": "markdown",
      "source": [
        "# И еще одно задание...\n",
        "\n",
        "В ячейке ниже вы сможете загрузить еще один текст\n",
        "\n",
        "Используйте свой код и код из задания, чтобы\n",
        "\n",
        "1. удалить артефакты (html-теги, специальные символы и двойные пробелы)\n",
        "\n",
        "2. привести текст к нижнему регистру\n",
        "\n",
        "3. токенизировать текст по предложениям\n",
        "\n",
        "4. токенизировать текст по словам\n",
        "\n",
        "5. удалить стоп-слова"
      ],
      "metadata": {
        "id": "0EYfMpHZNUkA"
      }
    },
    {
      "cell_type": "code",
      "source": [
        "!wget https://raw.githubusercontent.com/vifirsanova/hse-python-course/main/extracurricular/artefacts.txt"
      ],
      "metadata": {
        "colab": {
          "base_uri": "https://localhost:8080/"
        },
        "id": "qE6b-OKsNqK_",
        "outputId": "7e0dba82-922e-41e5-bf58-bc944a6440bf"
      },
      "execution_count": 90,
      "outputs": [
        {
          "output_type": "stream",
          "name": "stdout",
          "text": [
            "--2024-10-13 21:47:53--  https://raw.githubusercontent.com/vifirsanova/hse-python-course/main/extracurricular/artefacts.txt\n",
            "Resolving raw.githubusercontent.com (raw.githubusercontent.com)... 185.199.108.133, 185.199.109.133, 185.199.110.133, ...\n",
            "Connecting to raw.githubusercontent.com (raw.githubusercontent.com)|185.199.108.133|:443... connected.\n",
            "HTTP request sent, awaiting response... 200 OK\n",
            "Length: 845 [text/plain]\n",
            "Saving to: ‘artefacts.txt’\n",
            "\n",
            "\rartefacts.txt         0%[                    ]       0  --.-KB/s               \rartefacts.txt       100%[===================>]     845  --.-KB/s    in 0s      \n",
            "\n",
            "2024-10-13 21:47:53 (36.7 MB/s) - ‘artefacts.txt’ saved [845/845]\n",
            "\n"
          ]
        }
      ]
    },
    {
      "cell_type": "code",
      "source": [
        "# запишем данные в переменную artefacts\n",
        "with open('artefacts.txt', 'r') as f:\n",
        "  artefacts = f.read()"
      ],
      "metadata": {
        "id": "CT7eVLpHOMTQ"
      },
      "execution_count": 91,
      "outputs": []
    },
    {
      "cell_type": "code",
      "source": [
        "### ваш код в ячейках ниже ###\n",
        "import re\n",
        "tag_pattern = r'<[^>]+>'\n",
        "clean_text = re.sub(tag_pattern, '', artefacts)\n",
        "print(clean_text)"
      ],
      "metadata": {
        "id": "9g-geUOsORlM",
        "outputId": "329a38e2-f4c4-4c32-9dd9-91cc897a418c",
        "colab": {
          "base_uri": "https://localhost:8080/"
        }
      },
      "execution_count": 94,
      "outputs": [
        {
          "output_type": "stream",
          "name": "stdout",
          "text": [
            "\n",
            "\n",
            "\n",
            "    Sample Web Page\n",
            "\n",
            "\n",
            "    Welcome to Our Website\n",
            "    This is some sample text on our website. You can contact us at info@example.com.\n",
            "\n",
            "    Latest News\n",
            "    \n",
            "        Breaking News: Important Announcement\n",
            "        Lorem ipsum dolor sit amet, consectetur adipiscing elit. Vivamus lacinia, arcu in fermentum tincidunt.\n",
            "    \n",
            "\n",
            "    \n",
            "        &copy; 2023 Our Website. All rights reserved. | Privacy Policy | Contact Us\n",
            "    \n",
            "\n",
            "    \n",
            "        console.log('This is some JavaScript content that runs in the browser.');\n",
            "    \n",
            "\n",
            "\n",
            "\n"
          ]
        }
      ]
    },
    {
      "cell_type": "code",
      "source": [
        "symbols_pattern = r'&\\w+;'\n",
        "clean_text1 = re.sub(symbols_pattern, '', clean_text)\n",
        "print(clean_text1)"
      ],
      "metadata": {
        "id": "1WIwcRPt3N7j",
        "outputId": "cf19e244-e41a-4448-f0e3-818cf6574116",
        "colab": {
          "base_uri": "https://localhost:8080/"
        }
      },
      "execution_count": 95,
      "outputs": [
        {
          "output_type": "stream",
          "name": "stdout",
          "text": [
            "\n",
            "\n",
            "\n",
            "    Sample Web Page\n",
            "\n",
            "\n",
            "    Welcome to Our Website\n",
            "    This is some sample text on our website. You can contact us at info@example.com.\n",
            "\n",
            "    Latest News\n",
            "    \n",
            "        Breaking News: Important Announcement\n",
            "        Lorem ipsum dolor sit amet, consectetur adipiscing elit. Vivamus lacinia, arcu in fermentum tincidunt.\n",
            "    \n",
            "\n",
            "    \n",
            "         2023 Our Website. All rights reserved. | Privacy Policy | Contact Us\n",
            "    \n",
            "\n",
            "    \n",
            "        console.log('This is some JavaScript content that runs in the browser.');\n",
            "    \n",
            "\n",
            "\n",
            "\n"
          ]
        }
      ]
    },
    {
      "cell_type": "code",
      "source": [
        "space_pattern = r'\\s+'\n",
        "clean_text2 = re.sub(space_pattern, ' ', clean_text1)\n",
        "print(clean_text2)"
      ],
      "metadata": {
        "id": "CnGhtURS3yz0",
        "outputId": "aaf030fc-24ad-4627-ca75-1286daa34d7b",
        "colab": {
          "base_uri": "https://localhost:8080/"
        }
      },
      "execution_count": 97,
      "outputs": [
        {
          "output_type": "stream",
          "name": "stdout",
          "text": [
            " Sample Web Page Welcome to Our Website This is some sample text on our website. You can contact us at info@example.com. Latest News Breaking News: Important Announcement Lorem ipsum dolor sit amet, consectetur adipiscing elit. Vivamus lacinia, arcu in fermentum tincidunt. 2023 Our Website. All rights reserved. | Privacy Policy | Contact Us console.log('This is some JavaScript content that runs in the browser.'); \n"
          ]
        }
      ]
    },
    {
      "cell_type": "code",
      "source": [
        "text_lower = clean_text2.lower()\n",
        "print(text_lower)"
      ],
      "metadata": {
        "id": "Hmt7zJ_Z9cq7",
        "outputId": "28baa2fa-8236-46a2-9dd1-ff557601c887",
        "colab": {
          "base_uri": "https://localhost:8080/"
        }
      },
      "execution_count": 99,
      "outputs": [
        {
          "output_type": "stream",
          "name": "stdout",
          "text": [
            " sample web page welcome to our website this is some sample text on our website. you can contact us at info@example.com. latest news breaking news: important announcement lorem ipsum dolor sit amet, consectetur adipiscing elit. vivamus lacinia, arcu in fermentum tincidunt. 2023 our website. all rights reserved. | privacy policy | contact us console.log('this is some javascript content that runs in the browser.'); \n"
          ]
        }
      ]
    },
    {
      "cell_type": "code",
      "source": [
        "sentences = text_lower.split('.')\n",
        "print(sentences)"
      ],
      "metadata": {
        "id": "5i5N8fWq_ASl",
        "outputId": "c50bb79a-e72e-4eb1-dffb-e5cd622f5445",
        "colab": {
          "base_uri": "https://localhost:8080/"
        }
      },
      "execution_count": 107,
      "outputs": [
        {
          "output_type": "stream",
          "name": "stdout",
          "text": [
            "[' sample web page welcome to our website this is some sample text on our website', ' you can contact us at info@example', 'com', ' latest news breaking news: important announcement lorem ipsum dolor sit amet, consectetur adipiscing elit', ' vivamus lacinia, arcu in fermentum tincidunt', ' 2023 our website', ' all rights reserved', ' | privacy policy | contact us console', \"log('this is some javascript content that runs in the browser\", \"'); \"]\n"
          ]
        }
      ]
    },
    {
      "cell_type": "code",
      "source": [
        "tokens = []\n",
        "tokens = text_lower.split(' ')\n",
        "print(tokens)"
      ],
      "metadata": {
        "id": "3HOTUCfS_4O5",
        "outputId": "ee4e61cf-9fb5-4767-d5c1-1b22f8e63ec3",
        "colab": {
          "base_uri": "https://localhost:8080/"
        }
      },
      "execution_count": 108,
      "outputs": [
        {
          "output_type": "stream",
          "name": "stdout",
          "text": [
            "['', 'sample', 'web', 'page', 'welcome', 'to', 'our', 'website', 'this', 'is', 'some', 'sample', 'text', 'on', 'our', 'website.', 'you', 'can', 'contact', 'us', 'at', 'info@example.com.', 'latest', 'news', 'breaking', 'news:', 'important', 'announcement', 'lorem', 'ipsum', 'dolor', 'sit', 'amet,', 'consectetur', 'adipiscing', 'elit.', 'vivamus', 'lacinia,', 'arcu', 'in', 'fermentum', 'tincidunt.', '2023', 'our', 'website.', 'all', 'rights', 'reserved.', '|', 'privacy', 'policy', '|', 'contact', 'us', \"console.log('this\", 'is', 'some', 'javascript', 'content', 'that', 'runs', 'in', 'the', \"browser.');\", '']\n"
          ]
        }
      ]
    },
    {
      "cell_type": "code",
      "source": [
        "if tokens not in stopwords:\n",
        "  clean_tokens.append(tokens)\n",
        "  print(clean_tokens)"
      ],
      "metadata": {
        "id": "CeTStrtgAEsd",
        "outputId": "f9fb7c2f-3aaa-4046-f7ed-238273ff6e74",
        "colab": {
          "base_uri": "https://localhost:8080/"
        }
      },
      "execution_count": 110,
      "outputs": [
        {
          "output_type": "stream",
          "name": "stdout",
          "text": [
            "['<!doctype', 'html>', '<html>', '<head>', '<title>sample', 'html', 'document</title>', '</head>', '<body>', '<h1>welcome', 'data', 'cleaning</h1>', '<p>this', 'sample', 'paragraph', '<b>html', 'artifacts</b>', '<i>bold</i>', '<u>italic</u>', 'text.', 'data', 'cleaning', 'essential', 'process', 'preparing', 'data', 'analysis.', 'involves', 'various', 'techniques', 'clean,', 'transform,', 'preprocess', 'data.</p>', '<p>in', 'data', 'cleaning,', 'important', 'remove', '<em>stop', 'words</em>', 'like', '\"the\",', '\"and\",', '\"of\",', 'etc.', 'stop', 'words', 'common', 'words', 'often', 'filtered', 'text', 'data', 'carry', 'significant', 'meaning.</p>', \"<p>here's\", 'another', 'paragraph.', 'sometimes', 'text', '<strong>uppercase</strong>', '<em>lowercase</em>.', 'important', 'standardize', 'text', 'case', 'ensure', 'consistency', 'dataset.', 'can', 'achieved', 'converting', 'text', 'lowercase', 'uppercase.</p>', \"<p>it's\", 'crucial', 'handle', '<code>html', 'entities</code>', '&lt;div&gt;,', '&lt;p&gt;,', '&amp;,', 'etc.', 'html', 'entities', 'special', 'characters', 'symbols', 'specific', 'meanings', 'html.', 'need', 'properly', 'handled', 'avoid', 'issues', 'data', 'processing.</p>', '<p>data', 'cleaning', 'also', 'involves', 'dealing', 'missing', 'values.', 'missing', 'values', 'can', 'occur', 'due', 'various', 'reasons', 'incomplete', 'data', 'collection', 'data', 'entry', 'errors.', 'essential', 'identify', 'handle', 'missing', 'values', 'appropriately', 'avoid', 'bias', 'analysis.</p>', '<p>text', 'data', 'often', 'contains', 'noise', 'punctuation', 'marks,', 'special', 'characters,', 'digits.', 'removing', 'noise', 'text', 'data', 'necessary', 'focus', 'meaningful', 'content.', 'techniques', 'regular', 'expressions', 'can', 'used', 'noise', 'removal.</p>', '<p>another', 'important', 'aspect', 'data', 'cleaning', 'deduplication.', 'duplicate', 'records', 'dataset', 'can', 'skew', 'analysis', 'results', 'lead', 'inaccurate', 'conclusions.', 'identifying', 'removing', 'duplicate', 'records', 'ensures', 'data', 'integrity', 'improves', 'quality', 'analysis.</p>', '<p>after', 'cleaning', 'data,', 'essential', 'perform', 'exploratory', 'data', 'analysis', '(eda)', 'gain', 'insights', 'identify', 'patterns.', 'eda', 'involves', 'visualizing', 'data,', 'computing', 'summary', 'statistics,', 'exploring', 'relationships', 'variables.</p>', '<p>once', 'data', 'cleaned', 'analyzed,', 'can', 'used', 'various', 'purposes', 'building', 'machine', 'learning', 'models,', 'making', 'predictions,', 'generating', 'insights', 'support', 'decision-making', 'processes.</p>', '</body>', '</html>', '', '', 'sample', 'web', 'page', 'welcome', 'website', 'sample', 'text', 'website.', 'can', 'contact', 'us', 'info@example.com.', 'latest', 'news', 'breaking', 'news:', 'important', 'announcement', 'lorem', 'ipsum', 'dolor', 'sit', 'amet,', 'consectetur', 'adipiscing', 'elit.', 'vivamus', 'lacinia,', 'arcu', 'fermentum', 'tincidunt.', '2023', 'website.', 'rights', 'reserved.', '|', 'privacy', 'policy', '|', 'contact', 'us', \"console.log('this\", 'javascript', 'content', 'runs', \"browser.');\", '', ['', 'sample', 'web', 'page', 'welcome', 'to', 'our', 'website', 'this', 'is', 'some', 'sample', 'text', 'on', 'our', 'website.', 'you', 'can', 'contact', 'us', 'at', 'info@example.com.', 'latest', 'news', 'breaking', 'news:', 'important', 'announcement', 'lorem', 'ipsum', 'dolor', 'sit', 'amet,', 'consectetur', 'adipiscing', 'elit.', 'vivamus', 'lacinia,', 'arcu', 'in', 'fermentum', 'tincidunt.', '2023', 'our', 'website.', 'all', 'rights', 'reserved.', '|', 'privacy', 'policy', '|', 'contact', 'us', \"console.log('this\", 'is', 'some', 'javascript', 'content', 'that', 'runs', 'in', 'the', \"browser.');\", '']]\n"
          ]
        }
      ]
    }
  ]
}