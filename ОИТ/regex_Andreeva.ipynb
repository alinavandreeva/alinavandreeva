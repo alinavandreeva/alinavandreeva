{
  "nbformat": 4,
  "nbformat_minor": 0,
  "metadata": {
    "colab": {
      "provenance": [],
      "authorship_tag": "ABX9TyPhR6Zo8PLG/NY6zrAB5Cx/",
      "include_colab_link": true
    },
    "kernelspec": {
      "name": "python3",
      "display_name": "Python 3"
    },
    "language_info": {
      "name": "python"
    }
  },
  "cells": [
    {
      "cell_type": "markdown",
      "metadata": {
        "id": "view-in-github",
        "colab_type": "text"
      },
      "source": [
        "<a href=\"https://colab.research.google.com/github/alinavandreeva/alinavandreeva/blob/main/regex_Andreeva.ipynb\" target=\"_parent\"><img src=\"https://colab.research.google.com/assets/colab-badge.svg\" alt=\"Open In Colab\"/></a>"
      ]
    },
    {
      "cell_type": "code",
      "execution_count": 1,
      "metadata": {
        "id": "AumL-pdC5G3N"
      },
      "outputs": [],
      "source": [
        "import re"
      ]
    },
    {
      "cell_type": "code",
      "source": [
        "# Task: Find all words in a string that start with a capital letter.\n",
        "sentence = 'Hello world, this is a Regex example with Python'\n",
        "r = re.findall('([A-Z][a-z]+)', sentence)\n",
        "print(r)"
      ],
      "metadata": {
        "colab": {
          "base_uri": "https://localhost:8080/"
        },
        "id": "RjWFBRtb5Qse",
        "outputId": "618a6b30-2772-4f43-fcd4-35b8deb85736"
      },
      "execution_count": 9,
      "outputs": [
        {
          "output_type": "stream",
          "name": "stdout",
          "text": [
            "['Hello', 'Regex', 'Python']\n"
          ]
        }
      ]
    },
    {
      "cell_type": "code",
      "source": [
        "# Task: Replace all instances of \"is\" with \"was\" in the string.\n",
        "s = 'This is a test. This is only a test'\n",
        "\n",
        "print(s.replace('is', 'was'))"
      ],
      "metadata": {
        "colab": {
          "base_uri": "https://localhost:8080/"
        },
        "id": "IvHRtkXL7jv6",
        "outputId": "0af0ca2c-53fa-4c8f-9838-5806652c7cb7"
      },
      "execution_count": 40,
      "outputs": [
        {
          "output_type": "stream",
          "name": "stdout",
          "text": [
            "Thwas was a test. Thwas was only a test\n"
          ]
        }
      ]
    },
    {
      "cell_type": "code",
      "source": [
        "# Task: Extract All URLs from a Text\n",
        "from bs4 import BeautifulSoup\n",
        "import requests\n",
        "\n",
        "url = \"https://www.example.com\"\n",
        "r = requests.get(url)\n",
        "s = BeautifulSoup(r.content, \"html.parser\")\n",
        "links = s.find_all('a')\n",
        "\n",
        "for link in links:\n",
        "    href = link.get('href')\n",
        "    print(href)"
      ],
      "metadata": {
        "colab": {
          "base_uri": "https://localhost:8080/"
        },
        "id": "M86veNaPN59T",
        "outputId": "bbf6af32-ecaf-4c0c-ba41-bcbe257e144f"
      },
      "execution_count": 48,
      "outputs": [
        {
          "output_type": "stream",
          "name": "stdout",
          "text": [
            "https://www.iana.org/domains/example\n"
          ]
        }
      ]
    },
    {
      "cell_type": "code",
      "source": [
        "# 4 Task: Find all hashtags in a comment\n",
        "s = 'Loving the #sunset and #nature! #beautiful_day'\n",
        "r = re.findall('#', s)\n",
        "print(r)"
      ],
      "metadata": {
        "colab": {
          "base_uri": "https://localhost:8080/"
        },
        "id": "uv-fAtU09pH5",
        "outputId": "ac3413d4-0d98-4e18-a507-dce04657760c"
      },
      "execution_count": 36,
      "outputs": [
        {
          "output_type": "stream",
          "name": "stdout",
          "text": [
            "['#', '#', '#']\n"
          ]
        }
      ]
    },
    {
      "cell_type": "code",
      "source": [
        "# 5 Task: Remove the repeated words\n",
        "s = 'This is is a test test string.'\n",
        "words = s.split()\n",
        "print (\" \".join(sorted(set(words), key=words.index)))"
      ],
      "metadata": {
        "colab": {
          "base_uri": "https://localhost:8080/"
        },
        "id": "eN4dW5ybKjwC",
        "outputId": "8fcfbe44-a859-495c-d584-c94d0408896c"
      },
      "execution_count": 37,
      "outputs": [
        {
          "output_type": "stream",
          "name": "stdout",
          "text": [
            "This is a test string.\n"
          ]
        }
      ]
    }
  ]
}
