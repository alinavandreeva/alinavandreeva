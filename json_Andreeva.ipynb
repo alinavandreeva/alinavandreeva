{
  "nbformat": 4,
  "nbformat_minor": 0,
  "metadata": {
    "colab": {
      "provenance": [],
      "authorship_tag": "ABX9TyOKQEUOUGna26JfWqgw2bmJ",
      "include_colab_link": true
    },
    "kernelspec": {
      "name": "python3",
      "display_name": "Python 3"
    },
    "language_info": {
      "name": "python"
    }
  },
  "cells": [
    {
      "cell_type": "markdown",
      "metadata": {
        "id": "view-in-github",
        "colab_type": "text"
      },
      "source": [
        "<a href=\"https://colab.research.google.com/github/alinavandreeva/alinavandreeva/blob/main/json_Andreeva.ipynb\" target=\"_parent\"><img src=\"https://colab.research.google.com/assets/colab-badge.svg\" alt=\"Open In Colab\"/></a>"
      ]
    },
    {
      "cell_type": "code",
      "execution_count": 1,
      "metadata": {
        "id": "ZtnBRn_VSB2t"
      },
      "outputs": [],
      "source": [
        "import json"
      ]
    },
    {
      "cell_type": "code",
      "source": [
        "# 1. Write a Python program to convert JSON data to Python object.\n",
        "\n",
        "import json\n",
        "json_object = '{\"name\":\"Anna\", \"age\":20, \"occupation\":\"student\"}'\n",
        "python_object = json.loads(json_object)\n",
        "print(\"name:\",python_object[\"name\"])\n",
        "print(\"age:\",python_object[\"age\"])\n",
        "print(\"occupation:\",python_object[\"occupation\"])"
      ],
      "metadata": {
        "colab": {
          "base_uri": "https://localhost:8080/"
        },
        "id": "ysQ_GbKXVFzc",
        "outputId": "9fefb3dc-3b9e-42df-f3d9-7abe8e9ff0fd"
      },
      "execution_count": 4,
      "outputs": [
        {
          "output_type": "stream",
          "name": "stdout",
          "text": [
            "name: Anna\n",
            "age: 20\n",
            "occupation: student\n"
          ]
        }
      ]
    },
    {
      "cell_type": "code",
      "source": [
        "# 2. Write a Python program to convert Python object to JSON data.\n",
        "\n",
        "python_object = {\n",
        "  \"name\":[\"Anna\"],\n",
        "  \"age\":[20],\n",
        "  \"occupation\":[\"student\"]\n",
        "}\n",
        "print(type(python_object))\n",
        "json_data = json.dumps(python_object)\n",
        "print(json_data)"
      ],
      "metadata": {
        "colab": {
          "base_uri": "https://localhost:8080/"
        },
        "id": "22Q2y83Xnyfp",
        "outputId": "61aad697-7e60-4ad3-8065-c56040b3930e"
      },
      "execution_count": 6,
      "outputs": [
        {
          "output_type": "stream",
          "name": "stdout",
          "text": [
            "<class 'dict'>\n",
            "{\"name\": [\"Anna\"], \"age\": [20], \"occupation\": [\"student\"]}\n"
          ]
        }
      ]
    },
    {
      "cell_type": "code",
      "source": [
        "# 4. Write a Python program to convert Python dictionary object (sort by key) to JSON data. Print the object members with indent level 4.\n",
        "\n",
        "json_str = {'3':9, '4':16, '1':1, '2':4}\n",
        "print(json_str)\n",
        "\n",
        "print(json.dumps(json_str, sort_keys=True, indent=4))\n"
      ],
      "metadata": {
        "colab": {
          "base_uri": "https://localhost:8080/"
        },
        "id": "6aS8o4Gjo5Na",
        "outputId": "b0eb7f93-8ef6-49ea-efca-95010b3e4fc7"
      },
      "execution_count": 10,
      "outputs": [
        {
          "output_type": "stream",
          "name": "stdout",
          "text": [
            "{'3': 9, '4': 16, '1': 1, '2': 4}\n",
            "{\n",
            "    \"1\": 1,\n",
            "    \"2\": 4,\n",
            "    \"3\": 9,\n",
            "    \"4\": 16\n",
            "}\n"
          ]
        }
      ]
    },
    {
      "cell_type": "code",
      "source": [
        "# 5. Write a Python program to convert JSON encoded data into Python objects.\n",
        "\n",
        "json_dict = '{\"name\":\"Anna\", \"age\":20, \"occupation\":\"student\"}'\n",
        "json_list = '[\"cherry\", \"apple\", \"pear\"]'\n",
        "json_string = '\"Hello world\"'\n",
        "json_int = '12345'\n",
        "json_float = '36.6'\n",
        "python_dict = json.loads(json_dict)\n",
        "python_list = json.loads(json_list)\n",
        "python_str = json.loads(json_string)\n",
        "python_int = json.loads(json_int)\n",
        "python_float = json.loads(json_float)\n",
        "\n",
        "print(\"Python dict:\", python_dict)\n",
        "print(\"Python list:\", python_list)\n",
        "print(\"Python string:\", python_str)\n",
        "print(\"Python int:\", python_int)\n",
        "print(\"Python float:\", python_float)"
      ],
      "metadata": {
        "colab": {
          "base_uri": "https://localhost:8080/"
        },
        "id": "9NTBJ_m_rXbx",
        "outputId": "a313883e-3c17-4425-85d3-f48784040a26"
      },
      "execution_count": 18,
      "outputs": [
        {
          "output_type": "stream",
          "name": "stdout",
          "text": [
            "Python dict: {'name': 'Anna', 'age': 20, 'occupation': 'student'}\n",
            "Python list: ['cherry', 'apple', 'pear']\n",
            "Python string: Hello world\n",
            "Python int: 12345\n",
            "Python float: 36.6\n"
          ]
        }
      ]
    },
    {
      "cell_type": "code",
      "source": [
        "# 6. Write a Python program to create a new JSON file from an existing JSON file.\n",
        "\n",
        "with open('states.json') as f:\n",
        "  state_data= json.load(f)\n",
        "\n",
        "with open('new_states.json', 'w') as f:\n",
        "  json.dump(state_data, f, indent=2)"
      ],
      "metadata": {
        "id": "BGfNmJiZtMPb"
      },
      "execution_count": 26,
      "outputs": []
    },
    {
      "cell_type": "code",
      "source": [
        "# 7. Write a Python program to check whether an instance is complex or not.\n",
        "\n",
        "def encode_complex(object):\n",
        "    # check using isinstance method\n",
        "    if isinstance(object, complex):\n",
        "        return [object.real, object.imag]\n",
        "    # raised error if object is not complex\n",
        "    raise TypeError(repr(object) + \" is not JSON serialized\")\n",
        "\n",
        "complex_obj = json.dumps(2 + 3j, default=encode_complex)\n",
        "print(complex_obj)"
      ],
      "metadata": {
        "colab": {
          "base_uri": "https://localhost:8080/"
        },
        "id": "WsC0svzkvvg5",
        "outputId": "433b902a-6183-4368-bf14-9a575400f2c7"
      },
      "execution_count": 21,
      "outputs": [
        {
          "output_type": "stream",
          "name": "stdout",
          "text": [
            "[2.0, 3.0]\n"
          ]
        }
      ]
    },
    {
      "cell_type": "code",
      "source": [
        "# 8. Write a Python program to check whether a JSON string contains complex object or not.\n",
        "\n",
        "def is_complex_num(object):\n",
        "    if '__complex__' in object:\n",
        "        return complex(object['real'], object['img'])\n",
        "    return object\n",
        "\n",
        "complex_object =json.loads('{\"__complex__\":true, \"real\":4, \"img\":5}', object_hook = is_complex_num)\n",
        "simple_object =json.loads('{\"real\":4, \"img\":3}', object_hook = is_complex_num)\n",
        "print(\"Complex_object:\",complex_object)\n",
        "print(\"Without complex object:\",simple_object)"
      ],
      "metadata": {
        "colab": {
          "base_uri": "https://localhost:8080/"
        },
        "id": "mI_r7uQHwZVf",
        "outputId": "45eb73dc-4719-4e14-abe5-70a66460239a"
      },
      "execution_count": 24,
      "outputs": [
        {
          "output_type": "stream",
          "name": "stdout",
          "text": [
            "Complex_object: (4+5j)\n",
            "Without complex object: {'real': 4, 'img': 3}\n"
          ]
        }
      ]
    },
    {
      "cell_type": "code",
      "source": [
        "# 9. Write a Python program to access only unique key value of a Python object.\n",
        "\n",
        "python_object = '{\"a\": 1, \"a\": 2, \"a\": 3, \"a\":4, \"b\":1, \"b\":2, \"b\":3, \"b\":4}'\n",
        "print(python_object)\n",
        "json_object = json.loads(python_object)\n",
        "print(json_object)"
      ],
      "metadata": {
        "colab": {
          "base_uri": "https://localhost:8080/"
        },
        "id": "srQrctSewmRW",
        "outputId": "4c8c4cad-42c9-47ef-efbe-6e56c130be1b"
      },
      "execution_count": 25,
      "outputs": [
        {
          "output_type": "stream",
          "name": "stdout",
          "text": [
            "{\"a\": 1, \"a\": 2, \"a\": 3, \"a\":4, \"b\":1, \"b\":2, \"b\":3, \"b\":4}\n",
            "{'a': 4, 'b': 4}\n"
          ]
        }
      ]
    }
  ]
}